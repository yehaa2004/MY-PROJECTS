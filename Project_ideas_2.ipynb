{
  "nbformat": 4,
  "nbformat_minor": 0,
  "metadata": {
    "colab": {
      "name": "Project ideas #2.ipynb",
      "provenance": [],
      "include_colab_link": true
    },
    "kernelspec": {
      "name": "python3",
      "display_name": "Python 3"
    },
    "language_info": {
      "name": "python"
    }
  },
  "cells": [
    {
      "cell_type": "markdown",
      "metadata": {
        "id": "view-in-github",
        "colab_type": "text"
      },
      "source": [
        "<a href=\"https://colab.research.google.com/github/yehaa2004/MY-PROJECTS/blob/main/Project_ideas_2.ipynb\" target=\"_parent\"><img src=\"https://colab.research.google.com/assets/colab-badge.svg\" alt=\"Open In Colab\"/></a>"
      ]
    },
    {
      "cell_type": "markdown",
      "source": [
        "**OTP Generation**"
      ],
      "metadata": {
        "id": "me2ZLwUBGi2L"
      }
    },
    {
      "cell_type": "code",
      "execution_count": 1,
      "metadata": {
        "id": "a2davGxbGbN2",
        "outputId": "2a464f1a-4a15-4de2-c7f1-8d4c8c44f842",
        "colab": {
          "base_uri": "https://localhost:8080/"
        }
      },
      "outputs": [
        {
          "output_type": "stream",
          "name": "stdout",
          "text": [
            "OTP : HNoIAT\n",
            "Enter your OTP : HNoIAT\n",
            "Access Granted!!!\n"
          ]
        }
      ],
      "source": [
        "# 'n' here is the number of characters in the OTP\n",
        "# 6 character OTP\n",
        "from random import choice\n",
        "import string\n",
        "OTP=\"\"\n",
        "n=6\n",
        "chr=string.ascii_letters\n",
        "for i in range(n):\n",
        "  OTP=OTP + choice(chr)\n",
        "\n",
        "print(\"OTP : \"+OTP)\n",
        "st=input(\"Enter your OTP : \")\n",
        "if st!=OTP:\n",
        "  print(\"Wrong OTP, Access Denied!!!\")\n",
        "else:\n",
        "  print(\"Access Granted!!!\")"
      ]
    }
  ]
}