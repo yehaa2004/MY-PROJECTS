{
  "nbformat": 4,
  "nbformat_minor": 0,
  "metadata": {
    "colab": {
      "provenance": [],
      "authorship_tag": "ABX9TyNwvWll0sWk8WV8h1QFZFn/",
      "include_colab_link": true
    },
    "kernelspec": {
      "name": "python3",
      "display_name": "Python 3"
    },
    "language_info": {
      "name": "python"
    }
  },
  "cells": [
    {
      "cell_type": "markdown",
      "metadata": {
        "id": "view-in-github",
        "colab_type": "text"
      },
      "source": [
        "<a href=\"https://colab.research.google.com/github/yehaa2004/MY-PROJECTS/blob/main/PPT_Generator.ipynb\" target=\"_parent\"><img src=\"https://colab.research.google.com/assets/colab-badge.svg\" alt=\"Open In Colab\"/></a>"
      ]
    },
    {
      "cell_type": "code",
      "execution_count": 1,
      "metadata": {
        "colab": {
          "base_uri": "https://localhost:8080/",
          "height": 348
        },
        "id": "5IdnXs98QAGH",
        "outputId": "84d2c9f2-bbd6-457b-afca-6bf0e1001667"
      },
      "outputs": [
        {
          "output_type": "error",
          "ename": "ModuleNotFoundError",
          "evalue": "No module named 'pptx'",
          "traceback": [
            "\u001b[0;31m---------------------------------------------------------------------------\u001b[0m",
            "\u001b[0;31mModuleNotFoundError\u001b[0m                       Traceback (most recent call last)",
            "\u001b[0;32m<ipython-input-1-1544f4dd8883>\u001b[0m in \u001b[0;36m<cell line: 1>\u001b[0;34m()\u001b[0m\n\u001b[0;32m----> 1\u001b[0;31m \u001b[0;32mfrom\u001b[0m \u001b[0mpptx\u001b[0m \u001b[0;32mimport\u001b[0m \u001b[0mPresentation\u001b[0m\u001b[0;34m\u001b[0m\u001b[0;34m\u001b[0m\u001b[0m\n\u001b[0m\u001b[1;32m      2\u001b[0m \u001b[0;32mfrom\u001b[0m \u001b[0mpptx\u001b[0m\u001b[0;34m.\u001b[0m\u001b[0mutil\u001b[0m \u001b[0;32mimport\u001b[0m \u001b[0mInches\u001b[0m\u001b[0;34m\u001b[0m\u001b[0;34m\u001b[0m\u001b[0m\n",
            "\u001b[0;31mModuleNotFoundError\u001b[0m: No module named 'pptx'",
            "",
            "\u001b[0;31m---------------------------------------------------------------------------\u001b[0;32m\nNOTE: If your import is failing due to a missing package, you can\nmanually install dependencies using either !pip or !apt.\n\nTo view examples of installing some common dependencies, click the\n\"Open Examples\" button below.\n\u001b[0;31m---------------------------------------------------------------------------\u001b[0m\n"
          ],
          "errorDetails": {
            "actions": [
              {
                "action": "open_url",
                "actionText": "Open Examples",
                "url": "/notebooks/snippets/importing_libraries.ipynb"
              }
            ]
          }
        }
      ],
      "source": [
        "from pptx import Presentation\n",
        "from pptx.util import Inches"
      ]
    },
    {
      "cell_type": "code",
      "source": [
        "!pip install python-pptx"
      ],
      "metadata": {
        "colab": {
          "base_uri": "https://localhost:8080/"
        },
        "id": "mqB5oWe7QQFp",
        "outputId": "75546f68-166c-48ef-e3e8-75bd1ec5e1a6"
      },
      "execution_count": 2,
      "outputs": [
        {
          "output_type": "stream",
          "name": "stdout",
          "text": [
            "Collecting python-pptx\n",
            "  Downloading python_pptx-0.6.23-py3-none-any.whl.metadata (18 kB)\n",
            "Requirement already satisfied: lxml>=3.1.0 in /usr/local/lib/python3.10/dist-packages (from python-pptx) (4.9.4)\n",
            "Requirement already satisfied: Pillow>=3.3.2 in /usr/local/lib/python3.10/dist-packages (from python-pptx) (9.4.0)\n",
            "Collecting XlsxWriter>=0.5.7 (from python-pptx)\n",
            "  Downloading XlsxWriter-3.2.0-py3-none-any.whl.metadata (2.6 kB)\n",
            "Downloading python_pptx-0.6.23-py3-none-any.whl (471 kB)\n",
            "\u001b[2K   \u001b[90m━━━━━━━━━━━━━━━━━━━━━━━━━━━━━━━━━━━━━━━━\u001b[0m \u001b[32m471.6/471.6 kB\u001b[0m \u001b[31m3.0 MB/s\u001b[0m eta \u001b[36m0:00:00\u001b[0m\n",
            "\u001b[?25hDownloading XlsxWriter-3.2.0-py3-none-any.whl (159 kB)\n",
            "\u001b[2K   \u001b[90m━━━━━━━━━━━━━━━━━━━━━━━━━━━━━━━━━━━━━━━━\u001b[0m \u001b[32m159.9/159.9 kB\u001b[0m \u001b[31m8.0 MB/s\u001b[0m eta \u001b[36m0:00:00\u001b[0m\n",
            "\u001b[?25hInstalling collected packages: XlsxWriter, python-pptx\n",
            "Successfully installed XlsxWriter-3.2.0 python-pptx-0.6.23\n"
          ]
        }
      ]
    },
    {
      "cell_type": "code",
      "source": [
        "from pptx import Presentation\n",
        "from pptx.util import Inches\n",
        "\n",
        "# Your code to work with PowerPoint presentations goes here"
      ],
      "metadata": {
        "id": "wfYjOgUNQTM5"
      },
      "execution_count": 3,
      "outputs": []
    },
    {
      "cell_type": "code",
      "source": [
        "prs = Presentation()"
      ],
      "metadata": {
        "id": "Z0zv1po8QU3m"
      },
      "execution_count": 4,
      "outputs": []
    },
    {
      "cell_type": "code",
      "source": [
        "slide = prs.slides.add_slide(prs.slide_layouts[0])\n",
        "title = slide.shapes.title\n",
        "subtitle = slide.placeholders[1]\n",
        "title.text = \"Artificial Intelligence: Potential & Concerns\"\n",
        "subtitle.text = \"Exploring the Impact of AI on Society\\nYour Name\\nDate\""
      ],
      "metadata": {
        "id": "PUPogqrSQY0r"
      },
      "execution_count": 5,
      "outputs": []
    },
    {
      "cell_type": "code",
      "source": [
        "slide = prs.slides.add_slide(prs.slide_layouts[1])\n",
        "title, content = slide.shapes.title, slide.placeholders[1]\n",
        "title.text = \"Introduction\"\n",
        "content.text = (\"- Definition of AI\\n\"\n",
        "                \"- Brief history and evolution of AI\\n\"\n",
        "                \"- Importance of AI in today's world\")"
      ],
      "metadata": {
        "id": "nUdLov1UQdx1"
      },
      "execution_count": 6,
      "outputs": []
    },
    {
      "cell_type": "code",
      "source": [
        "slide = prs.slides.add_slide(prs.slide_layouts[1])\n",
        "title, content = slide.shapes.title, slide.placeholders[1]\n",
        "title.text = \"Potential of AI\"\n",
        "content.text = (\"- Enhancing Efficiency\\n\"\n",
        "                \"  - Automation of repetitive tasks\\n\"\n",
        "                \"  - Increased productivity\\n\"\n",
        "                \"- Advancements in Healthcare\\n\"\n",
        "                \"  - AI in medical diagnosis and treatment\\n\"\n",
        "                \"  - Predictive analytics for patient care\\n\"\n",
        "                \"- Economic Growth\\n\"\n",
        "                \"  - New business opportunities\\n\"\n",
        "                \"  - Job creation in tech sectors\")"
      ],
      "metadata": {
        "id": "whwA0fEyQhOL"
      },
      "execution_count": 7,
      "outputs": []
    },
    {
      "cell_type": "code",
      "source": [
        "slide = prs.slides.add_slide(prs.slide_layouts[1])\n",
        "title, content = slide.shapes.title, slide.placeholders[1]\n",
        "title.text = \"AI in Everyday Life\"\n",
        "content.text = (\"- Smart Assistants\\n\"\n",
        "                \"  - Examples: Siri, Alexa, Google Assistant\\n\"\n",
        "                \"- Personalized Recommendations\\n\"\n",
        "                \"  - Streaming services, e-commerce\\n\"\n",
        "                \"- Autonomous Vehicles\\n\"\n",
        "                \"  - Self-driving cars and their potential benefits\")"
      ],
      "metadata": {
        "id": "1kj7P2BZQmwv"
      },
      "execution_count": 8,
      "outputs": []
    },
    {
      "cell_type": "code",
      "source": [
        "# Slide 5: AI in Industry\n",
        "slide = prs.slides.add_slide(prs.slide_layouts[1])\n",
        "title, content = slide.shapes.title, slide.placeholders[1]\n",
        "title.text = \"AI in Industry\"\n",
        "content.text = (\"- Manufacturing\\n\"\n",
        "                \"  - Predictive maintenance\\n\"\n",
        "                \"  - Quality control\\n\"\n",
        "                \"- Finance\\n\"\n",
        "                \"  - Fraud detection\\n\"\n",
        "                \"  - Algorithmic trading\\n\"\n",
        "                \"- Education\\n\"\n",
        "                \"  - Personalized learning\\n\"\n",
        "                \"  - Automated grading\")"
      ],
      "metadata": {
        "id": "7lQNCrKSQsTI"
      },
      "execution_count": 9,
      "outputs": []
    },
    {
      "cell_type": "code",
      "source": [
        "# Slide 6: Ethical Concerns\n",
        "slide = prs.slides.add_slide(prs.slide_layouts[1])\n",
        "title, content = slide.shapes.title, slide.placeholders[1]\n",
        "title.text = \"Ethical Concerns\"\n",
        "content.text = (\"- Bias and Discrimination\\n\"\n",
        "                \"  - Inherent biases in AI algorithms\\n\"\n",
        "                \"  - Impact on marginalized groups\\n\"\n",
        "                \"- Privacy Issues\\n\"\n",
        "                \"  - Data collection and surveillance\\n\"\n",
        "                \"- Autonomy and Control\\n\"\n",
        "                \"  - Decision-making without human oversight\")"
      ],
      "metadata": {
        "id": "kiJn4W9OQv0P"
      },
      "execution_count": 10,
      "outputs": []
    },
    {
      "cell_type": "code",
      "source": [
        "# Save the presentation\n",
        "pptx_path = \"/content/sample_data.pptx\"\n",
        "prs.save(pptx_path)\n",
        "pptx_path"
      ],
      "metadata": {
        "colab": {
          "base_uri": "https://localhost:8080/",
          "height": 36
        },
        "id": "QFPlk8eJQzH9",
        "outputId": "141317ea-f988-4bc2-8de1-190e319bea3d"
      },
      "execution_count": 12,
      "outputs": [
        {
          "output_type": "execute_result",
          "data": {
            "text/plain": [
              "'/content/sample_data.pptx'"
            ],
            "application/vnd.google.colaboratory.intrinsic+json": {
              "type": "string"
            }
          },
          "metadata": {},
          "execution_count": 12
        }
      ]
    }
  ]
}