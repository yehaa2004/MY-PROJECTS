{
  "nbformat": 4,
  "nbformat_minor": 0,
  "metadata": {
    "colab": {
      "provenance": [],
      "authorship_tag": "ABX9TyNJIxzZZAbi2xZnfkkhhd89",
      "include_colab_link": true
    },
    "kernelspec": {
      "name": "python3",
      "display_name": "Python 3"
    },
    "language_info": {
      "name": "python"
    }
  },
  "cells": [
    {
      "cell_type": "markdown",
      "metadata": {
        "id": "view-in-github",
        "colab_type": "text"
      },
      "source": [
        "<a href=\"https://colab.research.google.com/github/yehaa2004/MY-PROJECTS/blob/main/Untitled16.ipynb\" target=\"_parent\"><img src=\"https://colab.research.google.com/assets/colab-badge.svg\" alt=\"Open In Colab\"/></a>"
      ]
    },
    {
      "cell_type": "code",
      "execution_count": 1,
      "metadata": {
        "colab": {
          "base_uri": "https://localhost:8080/"
        },
        "id": "F2B8IoneY6Nk",
        "outputId": "2c6c408b-dca7-41d7-b42f-43da153b8d19"
      },
      "outputs": [
        {
          "output_type": "stream",
          "name": "stdout",
          "text": [
            "Result of Strassen Matrix Multiplication:\n",
            "[[ 4  6  5  5]\n",
            " [12 14 13 13]\n",
            " [16 14 15 15]\n",
            " [ 8  6  7  7]]\n"
          ]
        }
      ],
      "source": [
        "import numpy as np\n",
        "\n",
        "def strassen(A, B):\n",
        "    n = A.shape[0]\n",
        "\n",
        "    # Base case\n",
        "    if n == 1:\n",
        "        return A * B\n",
        "\n",
        "    # Divide matrices into quarters\n",
        "    mid = n // 2\n",
        "    A11 = A[:mid, :mid]\n",
        "    A12 = A[:mid, mid:]\n",
        "    A21 = A[mid:, :mid]\n",
        "    A22 = A[mid:, mid:]\n",
        "\n",
        "    B11 = B[:mid, :mid]\n",
        "    B12 = B[:mid, mid:]\n",
        "    B21 = B[mid:, :mid]\n",
        "    B22 = B[mid:, mid:]\n",
        "\n",
        "    # 7 products using Strassen’s formula\n",
        "    M1 = strassen(A11 + A22, B11 + B22)\n",
        "    M2 = strassen(A21 + A22, B11)\n",
        "    M3 = strassen(A11, B12 - B22)\n",
        "    M4 = strassen(A22, B21 - B11)\n",
        "    M5 = strassen(A11 + A12, B22)\n",
        "    M6 = strassen(A21 - A11, B11 + B12)\n",
        "    M7 = strassen(A12 - A22, B21 + B22)\n",
        "\n",
        "    # Compute the 4 parts of the result matrix\n",
        "    C11 = M1 + M4 - M5 + M7\n",
        "    C12 = M3 + M5\n",
        "    C21 = M2 + M4\n",
        "    C22 = M1 - M2 + M3 + M6\n",
        "\n",
        "    # Combine 4 parts into one matrix\n",
        "    top = np.hstack((C11, C12))\n",
        "    bottom = np.hstack((C21, C22))\n",
        "    return np.vstack((top, bottom))\n",
        "\n",
        "\n",
        "# Test with 4x4 matrices (must be size 2^n x 2^n)\n",
        "A = np.array([[1, 2, 3, 4],\n",
        "              [5, 6, 7, 8],\n",
        "              [9, 8, 7, 6],\n",
        "              [5, 4, 3, 2]])\n",
        "\n",
        "B = np.array([[1, 0, 0, 1],\n",
        "              [0, 1, 1, 0],\n",
        "              [1, 0, 1, 0],\n",
        "              [0, 1, 0, 1]])\n",
        "\n",
        "result = strassen(A, B)\n",
        "print(\"Result of Strassen Matrix Multiplication:\")\n",
        "print(result)\n"
      ]
    }
  ]
}